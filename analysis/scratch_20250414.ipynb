{
 "cells": [
  {
   "cell_type": "code",
   "execution_count": null,
   "id": "3f0b650c",
   "metadata": {},
   "outputs": [
    {
     "ename": "",
     "evalue": "",
     "output_type": "error",
     "traceback": [
      "\u001b[1;31mRunning cells with 'olmo_test (Python 3.12.9)' requires the ipykernel package.\n",
      "\u001b[1;31m<a href='command:jupyter.createPythonEnvAndSelectController'>Create a Python Environment</a> with the required packages.\n",
      "\u001b[1;31mOr install 'ipykernel' using the command: 'conda install -n olmo_test ipykernel --update-deps --force-reinstall'"
     ]
    }
   ],
   "source": [
    "import os\n",
    "import wandb\n",
    "import pandas as pd\n",
    "\n",
    "api       = wandb.Api()                       # respects WANDB_API_KEY\n",
    "entity    = \"harvardml\"                     # e.g. \"my‑team\"\n",
    "project   = \"test-precision-MX-fineweb\"\n",
    "run_name  = \"fp6_e2m3_fp6_e3m2\"\n",
    "\n",
    "# 1️⃣  Pull the matching runs straight from the server\n",
    "runs = api.runs(\n",
    "    path=f\"{entity}/{project}\",\n",
    "    filters={\"display_name\": run_name}        # server‑side filter\n",
    ")                                             # :contentReference[oaicite:0]{index=0}\n",
    "\n",
    "print(f\"Found {len(runs)} matching run(s)\")\n",
    "\n",
    "for run in runs:\n",
    "    # 2️⃣  Make a local directory for this run\n",
    "    local_root = os.path.join(\"downloads\", run.id)\n",
    "    os.makedirs(local_root, exist_ok=True)\n",
    "\n",
    "    # 3️⃣  Export tabular data you usually care about\n",
    "    run.history().to_csv(  os.path.join(local_root, \"history.csv\"),  index=False)\n",
    "    run.summary.to_json(   os.path.join(local_root, \"summary.json\"))\n",
    "    run.config.to_json(    os.path.join(local_root, \"config.json\"))\n",
    "\n",
    "    # 4️⃣  Grab every file that lives in the run’s bucket\n",
    "    for f in run.files():                      # list‑like of File objects\n",
    "        f.download(root=local_root, replace=True)   # :contentReference[oaicite:1]{index=1}\n",
    "\n",
    "    print(f\"✓  Downloaded run {run.name} ({run.id}) → {local_root}\")"
   ]
  },
  {
   "cell_type": "code",
   "execution_count": null,
   "id": "3293c404",
   "metadata": {},
   "outputs": [],
   "source": []
  }
 ],
 "metadata": {
  "kernelspec": {
   "display_name": "olmo_test",
   "language": "python",
   "name": "python3"
  },
  "language_info": {
   "name": "python",
   "version": "3.12.9"
  }
 },
 "nbformat": 4,
 "nbformat_minor": 5
}
