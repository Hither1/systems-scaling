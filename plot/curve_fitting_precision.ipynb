{
 "cells": [
  {
   "cell_type": "code",
   "execution_count": 2,
   "metadata": {},
   "outputs": [],
   "source": [
    "import pandas as pd\n",
    "import numpy as np\n",
    "import json\n",
    "import seaborn as sns\n",
    "\n",
    "from matplotlib import pyplot as plt\n",
    "%matplotlib inline"
   ]
  },
  {
   "cell_type": "code",
   "execution_count": 3,
   "metadata": {},
   "outputs": [],
   "source": [
    "from utils_plotting import val_map, display_dict\n",
    "from utils_scaling import fit, plot_contours\n",
    "\n",
    "import jax.numpy as jnp"
   ]
  },
  {
   "cell_type": "code",
   "execution_count": 4,
   "metadata": {},
   "outputs": [],
   "source": [
    "df = pd.read_csv(\"data/temp.csv\")\n",
    "df_big = pd.read_csv(\"data/extrapolation.csv\")"
   ]
  },
  {
   "cell_type": "code",
   "execution_count": 5,
   "metadata": {},
   "outputs": [],
   "source": [
    "def get_data(drop_df, key = \"train/CrossEntropyLoss\"):\n",
    "    drop_df = drop_df.dropna(subset=[key])\n",
    "\n",
    "    N = jnp.array(drop_df[\"params\"], dtype=jnp.float32)\n",
    "    D = jnp.array(drop_df[\"tokens\"], dtype=jnp.float32)\n",
    "    L = jnp.array(drop_df[key], dtype=jnp.float32)\n",
    "    return N, D, L\n"
   ]
  },
  {
   "cell_type": "code",
   "execution_count": 6,
   "metadata": {},
   "outputs": [],
   "source": [
    "formats = [\"fp4_e2m1\", \"float16\", \"fp16\", \"bfloat16\", \"bf16\", \"fp8_e5m2\", \"fp8_e4m3\", \"fp6_e3m2\", \"fp6_e2m3\", \"fp4\", \"int8\", \"int4\"]"
   ]
  },
  {
   "cell_type": "code",
   "execution_count": 7,
   "metadata": {},
   "outputs": [
    {
     "name": "stdout",
     "output_type": "stream",
     "text": [
      "w_format = fp4_e2m1\n"
     ]
    },
    {
     "ename": "KeyError",
     "evalue": "['val_loss']",
     "output_type": "error",
     "traceback": [
      "\u001b[0;31m---------------------------------------------------------------------------\u001b[0m",
      "\u001b[0;31mKeyError\u001b[0m                                  Traceback (most recent call last)",
      "\u001b[0;32m/tmp/ipykernel_1502234/526209435.py\u001b[0m in \u001b[0;36m?\u001b[0;34m()\u001b[0m\n\u001b[1;32m     13\u001b[0m \u001b[0;34m\u001b[0m\u001b[0m\n\u001b[1;32m     14\u001b[0m                 \u001b[0;31m# drop_df = df[df[\"data\"] == data]\u001b[0m\u001b[0;34m\u001b[0m\u001b[0;34m\u001b[0m\u001b[0m\n\u001b[1;32m     15\u001b[0m                 \u001b[0mdrop_df\u001b[0m \u001b[0;34m=\u001b[0m \u001b[0mdf\u001b[0m\u001b[0;34m[\u001b[0m\u001b[0;34m(\u001b[0m\u001b[0mdf\u001b[0m\u001b[0;34m[\u001b[0m\u001b[0;34m\"model.w_mx_format\"\u001b[0m\u001b[0;34m]\u001b[0m \u001b[0;34m==\u001b[0m \u001b[0mw_format\u001b[0m\u001b[0;34m)\u001b[0m \u001b[0;34m&\u001b[0m \u001b[0;34m(\u001b[0m\u001b[0mdf\u001b[0m\u001b[0;34m[\u001b[0m\u001b[0;34m\"model.a_mx_format\"\u001b[0m\u001b[0;34m]\u001b[0m \u001b[0;34m==\u001b[0m \u001b[0ma_format\u001b[0m\u001b[0;34m)\u001b[0m\u001b[0;34m]\u001b[0m\u001b[0;34m\u001b[0m\u001b[0;34m\u001b[0m\u001b[0m\n\u001b[1;32m     16\u001b[0m \u001b[0;34m\u001b[0m\u001b[0m\n\u001b[0;32m---> 17\u001b[0;31m                 \u001b[0mN\u001b[0m\u001b[0;34m,\u001b[0m \u001b[0mD\u001b[0m\u001b[0;34m,\u001b[0m \u001b[0mL\u001b[0m \u001b[0;34m=\u001b[0m \u001b[0mget_data\u001b[0m\u001b[0;34m(\u001b[0m\u001b[0mdrop_df\u001b[0m\u001b[0;34m,\u001b[0m \u001b[0mloss_name\u001b[0m\u001b[0;34m)\u001b[0m\u001b[0;34m\u001b[0m\u001b[0;34m\u001b[0m\u001b[0m\n\u001b[0m\u001b[1;32m     18\u001b[0m \u001b[0;34m\u001b[0m\u001b[0m\n\u001b[1;32m     19\u001b[0m                 \u001b[0mparams\u001b[0m\u001b[0;34m,\u001b[0m \u001b[0m_\u001b[0m \u001b[0;34m=\u001b[0m \u001b[0mfit\u001b[0m\u001b[0;34m(\u001b[0m\u001b[0mN\u001b[0m\u001b[0;34m,\u001b[0m \u001b[0mD\u001b[0m\u001b[0;34m,\u001b[0m \u001b[0mL\u001b[0m\u001b[0;34m,\u001b[0m \u001b[0mkaplan\u001b[0m\u001b[0;34m=\u001b[0m\u001b[0mkaplan\u001b[0m\u001b[0;34m)\u001b[0m\u001b[0;34m\u001b[0m\u001b[0;34m\u001b[0m\u001b[0m\n\u001b[1;32m     20\u001b[0m                 \u001b[0mprint\u001b[0m\u001b[0;34m(\u001b[0m\u001b[0;34mf\"Loss: {params['loss']}\"\u001b[0m\u001b[0;34m)\u001b[0m\u001b[0;34m\u001b[0m\u001b[0;34m\u001b[0m\u001b[0m\n",
      "\u001b[0;32m/tmp/ipykernel_1502234/3049991918.py\u001b[0m in \u001b[0;36m?\u001b[0;34m(drop_df, key)\u001b[0m\n\u001b[1;32m      1\u001b[0m \u001b[0;32mdef\u001b[0m \u001b[0mget_data\u001b[0m\u001b[0;34m(\u001b[0m\u001b[0mdrop_df\u001b[0m\u001b[0;34m,\u001b[0m \u001b[0mkey\u001b[0m \u001b[0;34m=\u001b[0m \u001b[0;34m\"train/CrossEntropyLoss\"\u001b[0m\u001b[0;34m)\u001b[0m\u001b[0;34m:\u001b[0m\u001b[0;34m\u001b[0m\u001b[0;34m\u001b[0m\u001b[0m\n\u001b[0;32m----> 2\u001b[0;31m     \u001b[0mdrop_df\u001b[0m \u001b[0;34m=\u001b[0m \u001b[0mdrop_df\u001b[0m\u001b[0;34m.\u001b[0m\u001b[0mdropna\u001b[0m\u001b[0;34m(\u001b[0m\u001b[0msubset\u001b[0m\u001b[0;34m=\u001b[0m\u001b[0;34m[\u001b[0m\u001b[0mkey\u001b[0m\u001b[0;34m]\u001b[0m\u001b[0;34m)\u001b[0m\u001b[0;34m\u001b[0m\u001b[0;34m\u001b[0m\u001b[0m\n\u001b[0m\u001b[1;32m      3\u001b[0m \u001b[0;34m\u001b[0m\u001b[0m\n\u001b[1;32m      4\u001b[0m     \u001b[0mN\u001b[0m \u001b[0;34m=\u001b[0m \u001b[0mjnp\u001b[0m\u001b[0;34m.\u001b[0m\u001b[0marray\u001b[0m\u001b[0;34m(\u001b[0m\u001b[0mdrop_df\u001b[0m\u001b[0;34m[\u001b[0m\u001b[0;34m\"params\"\u001b[0m\u001b[0;34m]\u001b[0m\u001b[0;34m,\u001b[0m \u001b[0mdtype\u001b[0m\u001b[0;34m=\u001b[0m\u001b[0mjnp\u001b[0m\u001b[0;34m.\u001b[0m\u001b[0mfloat32\u001b[0m\u001b[0;34m)\u001b[0m\u001b[0;34m\u001b[0m\u001b[0;34m\u001b[0m\u001b[0m\n\u001b[1;32m      5\u001b[0m     \u001b[0mD\u001b[0m \u001b[0;34m=\u001b[0m \u001b[0mjnp\u001b[0m\u001b[0;34m.\u001b[0m\u001b[0marray\u001b[0m\u001b[0;34m(\u001b[0m\u001b[0mdrop_df\u001b[0m\u001b[0;34m[\u001b[0m\u001b[0;34m\"tokens\"\u001b[0m\u001b[0;34m]\u001b[0m\u001b[0;34m,\u001b[0m \u001b[0mdtype\u001b[0m\u001b[0;34m=\u001b[0m\u001b[0mjnp\u001b[0m\u001b[0;34m.\u001b[0m\u001b[0mfloat32\u001b[0m\u001b[0;34m)\u001b[0m\u001b[0;34m\u001b[0m\u001b[0;34m\u001b[0m\u001b[0m\n",
      "\u001b[0;32m~/miniforge3/envs/sys/lib/python3.10/site-packages/pandas/core/frame.py\u001b[0m in \u001b[0;36m?\u001b[0;34m(self, axis, how, thresh, subset, inplace, ignore_index)\u001b[0m\n\u001b[1;32m   6666\u001b[0m             \u001b[0max\u001b[0m \u001b[0;34m=\u001b[0m \u001b[0mself\u001b[0m\u001b[0;34m.\u001b[0m\u001b[0m_get_axis\u001b[0m\u001b[0;34m(\u001b[0m\u001b[0magg_axis\u001b[0m\u001b[0;34m)\u001b[0m\u001b[0;34m\u001b[0m\u001b[0;34m\u001b[0m\u001b[0m\n\u001b[1;32m   6667\u001b[0m             \u001b[0mindices\u001b[0m \u001b[0;34m=\u001b[0m \u001b[0max\u001b[0m\u001b[0;34m.\u001b[0m\u001b[0mget_indexer_for\u001b[0m\u001b[0;34m(\u001b[0m\u001b[0msubset\u001b[0m\u001b[0;34m)\u001b[0m\u001b[0;34m\u001b[0m\u001b[0;34m\u001b[0m\u001b[0m\n\u001b[1;32m   6668\u001b[0m             \u001b[0mcheck\u001b[0m \u001b[0;34m=\u001b[0m \u001b[0mindices\u001b[0m \u001b[0;34m==\u001b[0m \u001b[0;34m-\u001b[0m\u001b[0;36m1\u001b[0m\u001b[0;34m\u001b[0m\u001b[0;34m\u001b[0m\u001b[0m\n\u001b[1;32m   6669\u001b[0m             \u001b[0;32mif\u001b[0m \u001b[0mcheck\u001b[0m\u001b[0;34m.\u001b[0m\u001b[0many\u001b[0m\u001b[0;34m(\u001b[0m\u001b[0;34m)\u001b[0m\u001b[0;34m:\u001b[0m\u001b[0;34m\u001b[0m\u001b[0;34m\u001b[0m\u001b[0m\n\u001b[0;32m-> 6670\u001b[0;31m                 \u001b[0;32mraise\u001b[0m \u001b[0mKeyError\u001b[0m\u001b[0;34m(\u001b[0m\u001b[0mnp\u001b[0m\u001b[0;34m.\u001b[0m\u001b[0marray\u001b[0m\u001b[0;34m(\u001b[0m\u001b[0msubset\u001b[0m\u001b[0;34m)\u001b[0m\u001b[0;34m[\u001b[0m\u001b[0mcheck\u001b[0m\u001b[0;34m]\u001b[0m\u001b[0;34m.\u001b[0m\u001b[0mtolist\u001b[0m\u001b[0;34m(\u001b[0m\u001b[0;34m)\u001b[0m\u001b[0;34m)\u001b[0m\u001b[0;34m\u001b[0m\u001b[0;34m\u001b[0m\u001b[0m\n\u001b[0m\u001b[1;32m   6671\u001b[0m             \u001b[0magg_obj\u001b[0m \u001b[0;34m=\u001b[0m \u001b[0mself\u001b[0m\u001b[0;34m.\u001b[0m\u001b[0mtake\u001b[0m\u001b[0;34m(\u001b[0m\u001b[0mindices\u001b[0m\u001b[0;34m,\u001b[0m \u001b[0maxis\u001b[0m\u001b[0;34m=\u001b[0m\u001b[0magg_axis\u001b[0m\u001b[0;34m)\u001b[0m\u001b[0;34m\u001b[0m\u001b[0;34m\u001b[0m\u001b[0m\n\u001b[1;32m   6672\u001b[0m \u001b[0;34m\u001b[0m\u001b[0m\n\u001b[1;32m   6673\u001b[0m         \u001b[0;32mif\u001b[0m \u001b[0mthresh\u001b[0m \u001b[0;32mis\u001b[0m \u001b[0;32mnot\u001b[0m \u001b[0mlib\u001b[0m\u001b[0;34m.\u001b[0m\u001b[0mno_default\u001b[0m\u001b[0;34m:\u001b[0m\u001b[0;34m\u001b[0m\u001b[0;34m\u001b[0m\u001b[0m\n",
      "\u001b[0;31mKeyError\u001b[0m: ['val_loss']"
     ]
    },
    {
     "data": {
      "image/png": "[encoded data removed]",
      "text/plain": [
       "<Figure size 1500x1000 with 6 Axes>"
      ]
     },
     "metadata": {},
     "output_type": "display_data"
    }
   ],
   "source": [
    "plot_params_df = pd.DataFrame()\n",
    "for kaplan in [True, False]:\n",
    "    fig, axs = plt.subplots(2, 3, figsize=(15, 10))\n",
    "    fig.subplots_adjust(hspace=0.3, wspace=0.5)\n",
    "    sns.set(style=\"whitegrid\")\n",
    "    axs = axs.flatten()\n",
    "    for i, w_format in enumerate(formats):\n",
    "        for i, a_format in enumerate(formats):\n",
    "    # for i, data in enumerate(val_map.keys()):\n",
    "            for loss_name in [\"val_loss\"]:\n",
    "                ax = axs[i]\n",
    "                print(f\"w_format = {w_format}\")\n",
    "\n",
    "                # drop_df = df[df[\"data\"] == data]\n",
    "                drop_df = df[(df[\"model.w_mx_format\"] == w_format) & (df[\"model.a_mx_format\"] == a_format)]\n",
    "\n",
    "                N, D, L = get_data(drop_df, loss_name)\n",
    "\n",
    "                params, _ = fit(N, D, L, kaplan=kaplan)\n",
    "                print(f\"Loss: {params['loss']}\")\n",
    "\n",
    "                # df_big_data = df_big[df_big[\"data\"] == data]\n",
    "                df_big_data = df_big[(df_big[\"model.w_mx_format\"] == w_format) & (df_big[\"model.a_mx_format\"] == a_format)]\n",
    "                x = np.array(df_big_data[\"iso_flop\"])\n",
    "                y = np.array(df_big_data[\"params\"])\n",
    "                z = np.array(df_big_data[\"val_loss\"])\n",
    "                extrapolation = (x,y,z)\n",
    "                masks = np.ones(5)\n",
    "                vals = np.zeros(5)\n",
    "                plot_contours(ax, N, D, L, params, masks, vals, extrapolation, kaplan=kaplan)\n",
    "                # ax.set_title(f\"{display_dict[data]}\")\n",
    "                ax.set_title(f\"{w_format}_{a_format}\")\n",
    "\n",
    "                params[\"kaplan\"] = kaplan\n",
    "                params[\"w_format\"] = w_format\n",
    "                params[\"a_format\"] = a_format\n",
    "                # params[\"loss_name\"] = val_map[data]\n",
    "                params = pd.DataFrame([params.values], columns=params.index, index = [i])\n",
    "                plot_params_df = pd.concat([plot_params_df, params])\n",
    "\n",
    "    plt.savefig(f\"figures/all_curves_{'kaplan' if kaplan else 'chinchilla'}.pdf\", bbox_inches='tight')\n",
    "    plt.show()"
   ]
  },
  {
   "cell_type": "code",
   "execution_count": 6,
   "metadata": {},
   "outputs": [
    {
     "name": "stdout",
     "output_type": "stream",
     "text": [
      "SmolLM Corpus & 7.79e+07 & 1.06e+09 & 1.53 & 0.42 & 0.45 & 0.52 \\\\\n",
      "FineWeb-Edu & 6.68e+07 & 8.90e+08 & 1.97 & 0.41 & 0.46 & 0.52 \\\\\n",
      "SlimPajama & 7.47e+07 & 1.06e+09 & 1.97 & 0.40 & 0.43 & 0.52 \\\\\n",
      "FineWeb & 6.79e+07 & 9.31e+08 & 2.17 & 0.41 & 0.45 & 0.52 \\\\\n",
      "ProofPile 2 & 2.14e+07 & 3.29e+08 & 1.32 & 0.45 & 0.46 & 0.50 \\\\\n",
      "StarCoder & 2.23e+07 & 3.78e+08 & 0.85 & 0.45 & 0.47 & 0.51 \\\\\n",
      "\n",
      "SmolLM Corpus & 2.44e+03 & 6.92e+03 & 1.55 & 0.45 & 0.44 & 0.50 \\\\\n",
      "FineWeb-Edu & 2.52e+03 & 7.16e+03 & 2.00 & 0.45 & 0.45 & 0.50 \\\\\n",
      "SlimPajama & 2.05e+03 & 6.02e+03 & 2.01 & 0.44 & 0.44 & 0.50 \\\\\n",
      "FineWeb & 1.64e+03 & 4.20e+03 & 2.15 & 0.43 & 0.42 & 0.50 \\\\\n",
      "ProofPile 2 & 3.77e+03 & 3.59e+03 & 1.33 & 0.51 & 0.43 & 0.46 \\\\\n",
      "StarCoder & 7.75e+03 & 4.19e+03 & 0.86 & 0.55 & 0.44 & 0.45 \\\\\n",
      "\n"
     ]
    }
   ],
   "source": [
    "# latex tabel of params\n",
    "for kaplan in [True, False]:\n",
    "    for i, data in enumerate(val_map.keys()):\n",
    "        a, b, e, alpha, beta = plot_params_df[(plot_params_df[\"data\"] == data) & (plot_params_df[\"kaplan\"] == kaplan)].values[0][:5]\n",
    "        print(f\"{display_dict[data]} & {a:.2e} & {b:.2e} & {e:.2f} & {alpha:.2f} & {beta:.2f} & {beta / (alpha + beta):.2f} \\\\\\\\\")\n",
    "    print()"
   ]
  },
  {
   "cell_type": "code",
   "execution_count": null,
   "metadata": {},
   "outputs": [],
   "source": []
  }
 ],
 "metadata": {
  "kernelspec": {
   "display_name": "base",
   "language": "python",
   "name": "python3"
  },
  "language_info": {
   "codemirror_mode": {
    "name": "ipython",
    "version": 3
   },
   "file_extension": ".py",
   "mimetype": "text/x-python",
   "name": "python",
   "nbconvert_exporter": "python",
   "pygments_lexer": "ipython3",
   "version": "3.10.12"
  }
 },
 "nbformat": 4,
 "nbformat_minor": 2
}
